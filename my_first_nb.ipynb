{
  "nbformat": 4,
  "nbformat_minor": 0,
  "metadata": {
    "colab": {
      "provenance": []
    },
    "kernelspec": {
      "name": "python3",
      "display_name": "Python 3"
    },
    "language_info": {
      "name": "python"
    }
  },
  "cells": [
    {
      "cell_type": "markdown",
      "source": [
        "<h1>NumPy - Numerical Python</h1>"
      ],
      "metadata": {
        "id": "lhOtO5k_ovlI"
      }
    },
    {
      "cell_type": "markdown",
      "source": [
        "![numpy.png](data:image/png;base64,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)"
      ],
      "metadata": {
        "id": "iHRTkrsMoxtT"
      }
    },
    {
      "cell_type": "markdown",
      "source": [
        "\n",
        "\n",
        "\n",
        "\n",
        "**_NumPy_** is an open-source Python library that facilitates efficient numerical operations on large\n",
        "quantities of data.\n",
        "\n",
        "> _Think of NumPy as a separate software/tool for mathematical computation.\n",
        "To use this tool, you will need Python syntax._\n",
        "\n",
        "$y=mx+c$\n",
        "\n",
        "For more info about NumPy, [click here](https://github.com/oguejioforO).\n",
        "\n",
        "NumPy Package comes with the following features:\n",
        "- Array Creation\n",
        "- Conversions\n",
        "- Manipulations\n",
        "- Exploration\n",
        "- Ordering\n",
        "- Operations\n",
        "- Basic Statistics\n",
        "- Basic Linear Algebra\n",
        "\n",
        "The most important Data Science libraries in Python:\n",
        "1. NumPy\n",
        "2. Pandas\n",
        "3. Matplotlib\n",
        "4. Seaborn\n",
        "5. Plotly\n",
        "6. Scikit-learn\n",
        "7. Tensorflow\n",
        "8. NLTK\n",
        "9. Gensim"
      ],
      "metadata": {
        "id": "dD4PfiShkEiD"
      }
    },
    {
      "cell_type": "code",
      "execution_count": 1,
      "metadata": {
        "id": "xpGyqHEUjTeN",
        "colab": {
          "base_uri": "https://localhost:8080/"
        },
        "outputId": "5b033a4f-4549-480b-8440-edd69385a3cf"
      },
      "outputs": [
        {
          "output_type": "stream",
          "name": "stdout",
          "text": [
            "3.0 3.5\n"
          ]
        }
      ],
      "source": [
        "def get_average(x):\n",
        "    return sum(x)/len(x)\n",
        "\n",
        "list_1 = [1,2,3,4,5]\n",
        "list_2 = [1,2,3,4,5,6]\n",
        "\n",
        "avg1 = get_average(list_1)\n",
        "avg2 = get_average(list_2)\n",
        "print(avg1, avg2)"
      ]
    },
    {
      "cell_type": "code",
      "source": [],
      "metadata": {
        "id": "HThvKAhpqozT"
      },
      "execution_count": null,
      "outputs": []
    }
  ]
}